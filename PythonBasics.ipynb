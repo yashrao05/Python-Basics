{
  "nbformat": 4,
  "nbformat_minor": 0,
  "metadata": {
    "colab": {
      "provenance": []
    },
    "kernelspec": {
      "name": "python3",
      "display_name": "Python 3"
    },
    "language_info": {
      "name": "python"
    }
  },
  "cells": [
    {
      "cell_type": "code",
      "execution_count": null,
      "metadata": {
        "id": "0UzoeWl7Iv5G"
      },
      "outputs": [],
      "source": []
    },
    {
      "cell_type": "markdown",
      "source": [],
      "metadata": {
        "id": "nGlc7jmBI0Mn"
      }
    },
    {
      "cell_type": "markdown",
      "source": [
        "#Python Basics\n",
        "\n"
      ],
      "metadata": {
        "id": "1YF42EpnJJ7n"
      }
    },
    {
      "cell_type": "markdown",
      "source": [
        "1. What is Python, and why is it popular\n",
        "- Python is a programming language\n",
        "- It is popular because it is easy to use and because of its easy syntax\n",
        "\n",
        "2. What is an interpreter in Python\n",
        "- It reads and executes the program line by line\n",
        "\n",
        "3. What are pre-defined keywords in Python\n",
        "- Predefined keywords are special words which cannot be used as variable names\n",
        "\n",
        "4. Can keywords be used as variable names\n",
        "- No they cannot be used as variable names\n",
        "\n",
        "5. What is mutability in Python\n",
        "- objects/container whose state or value can be changed after they are created are called as mutable objects or container\n",
        "\n",
        "6. Why are lists mutable, but tuples are immutable\n",
        "- lists are mutable because we can change the values in that whereas in tuples we cannot do the same\n",
        "\n",
        "7. What is the difference between “==” and “is” operators in Python\n",
        "- \"==\" is a comparison operator which compares 2 values and \"is\" is a identity operator which compares the memory location of 2 objects\n",
        "\n",
        "8. What are logical operators in Python\n",
        "- there are 3 logical operators \"and\", \"or\", \"not\"\n",
        "\n",
        "9.  What is type casting in Python\n",
        "- The preocess of changing the data type of a value\n",
        "\n",
        "10. What is the difference between implicit and explicit type casting\n",
        "- implicit - python understand the datatype\n",
        "- explicit - convert data type using inbuilt functions , str, int, float, bool\n",
        "\n",
        "11. What is the purpose of conditional statements in Python\n",
        "- conditional statements are used to implement conditions\n",
        "\n",
        "12. How does the elif statement work\n",
        "- It is used to check multiple conditions without writing multiple if blocks.\n",
        "- example :\n",
        "  marks = 85\n",
        "\n",
        "if marks >= 90:\n",
        "    print(\"Grade: A\")\n",
        "elif marks >= 80:\n",
        "    print(\"Grade: B\")\n",
        "elif marks >= 70:\n",
        "    print(\"Grade: C\")\n",
        "else:\n",
        "    print(\"Grade: F\")\n",
        "\n",
        "13. What is the difference between for and while loops\n",
        "- while : repeatedly executes a block of code untill a condition is met\n",
        "- for : iterate over a sequence of elements\n",
        "\n",
        "14. Describe a scenario where a while loop is more suitable than a for loop.\n",
        "- Imagine you're building a login system where the user has to enter the correct password. You don't know how many tries they'll take — so you keep asking until the correct password is entered.\n",
        "\n",
        "This is where a **while loop** fits perfectly.\n",
        "\n",
        "correct_password = \"python123\"\n",
        "user_input = \"\"\n",
        "\n",
        "while user_input != correct_password:\n",
        "    user_input = input(\"Enter your password: \")\n",
        "\n",
        "print(\"Access granted ✅\")\n"
      ],
      "metadata": {
        "id": "7v8RJHDhJQ0X"
      }
    },
    {
      "cell_type": "markdown",
      "source": [
        "# practical\n"
      ],
      "metadata": {
        "id": "cCHnhp1gSOyy"
      }
    },
    {
      "cell_type": "code",
      "source": [
        "#1.  Write a Python program to print \"Hello, World!y\n",
        "print(\"Hello, World!y\")"
      ],
      "metadata": {
        "colab": {
          "base_uri": "https://localhost:8080/"
        },
        "id": "TEtbe9QzSWWA",
        "outputId": "b36e6ff6-19d4-4474-bb28-76554ee3a41e"
      },
      "execution_count": 1,
      "outputs": [
        {
          "output_type": "stream",
          "name": "stdout",
          "text": [
            "Hello, World!y\n"
          ]
        }
      ]
    },
    {
      "cell_type": "code",
      "source": [
        "# 2.  Write a Python program that displays your name and age\n",
        "name = input(\"please enter your name \")\n",
        "age = input(\"please enter you age \")\n",
        "print(\"name :\",name )\n",
        "print(\"age : \",age)\n"
      ],
      "metadata": {
        "colab": {
          "base_uri": "https://localhost:8080/"
        },
        "id": "KYkIU6kxSq6P",
        "outputId": "2c6c5abb-9ad0-4e81-9569-d04e70d8dc25"
      },
      "execution_count": 5,
      "outputs": [
        {
          "output_type": "stream",
          "name": "stdout",
          "text": [
            "please enter your name yash\n",
            "please enter you age 19\n",
            "name : yash\n",
            "age :  19\n"
          ]
        }
      ]
    },
    {
      "cell_type": "code",
      "source": [
        "# 3. Write code to print all the pre-defined keywords in Python using the keyword library\n",
        "\n",
        "import keyword\n",
        "all_keywords = keyword.kwlist\n",
        "print(\"Python Keywords:\")\n",
        "for word in all_keywords:\n",
        "    print(word)\n",
        "\n",
        "\n"
      ],
      "metadata": {
        "colab": {
          "base_uri": "https://localhost:8080/"
        },
        "id": "hZUz4VIOTfHg",
        "outputId": "70786445-012f-4df1-f9a9-5307ceb4d1ba"
      },
      "execution_count": 8,
      "outputs": [
        {
          "output_type": "stream",
          "name": "stdout",
          "text": [
            "Python Keywords:\n",
            "False\n",
            "None\n",
            "True\n",
            "and\n",
            "as\n",
            "assert\n",
            "async\n",
            "await\n",
            "break\n",
            "class\n",
            "continue\n",
            "def\n",
            "del\n",
            "elif\n",
            "else\n",
            "except\n",
            "finally\n",
            "for\n",
            "from\n",
            "global\n",
            "if\n",
            "import\n",
            "in\n",
            "is\n",
            "lambda\n",
            "nonlocal\n",
            "not\n",
            "or\n",
            "pass\n",
            "raise\n",
            "return\n",
            "try\n",
            "while\n",
            "with\n",
            "yield\n"
          ]
        }
      ]
    },
    {
      "cell_type": "code",
      "source": [
        "# 4. Write a program that checks if a given word is a Python keyword.\n",
        "\n",
        "word = input(\"Please enter the word: \")\n",
        "\n",
        "keywords = [\n",
        "    \"False\", \"None\", \"True\", \"and\", \"as\", \"assert\", \"async\", \"await\", \"break\", \"class\",\n",
        "    \"continue\", \"def\", \"del\", \"elif\", \"else\", \"except\", \"finally\", \"for\", \"from\", \"global\",\n",
        "    \"if\", \"import\", \"in\", \"is\", \"lambda\", \"nonlocal\", \"not\", \"or\", \"pass\", \"raise\", \"return\",\n",
        "    \"try\", \"while\", \"with\", \"yield\"\n",
        "]\n",
        "\n",
        "if word in keywords:\n",
        "    print(\"It is a Python keyword.\")\n",
        "else:\n",
        "    print(\"It is not a Python keyword.\")\n"
      ],
      "metadata": {
        "colab": {
          "base_uri": "https://localhost:8080/"
        },
        "id": "gJx9a_ChUxe2",
        "outputId": "b3764942-7846-4445-c3b0-a0ad32d9f486"
      },
      "execution_count": 15,
      "outputs": [
        {
          "output_type": "stream",
          "name": "stdout",
          "text": [
            "Please enter the word: lol\n",
            "It is not a Python keyword.\n"
          ]
        }
      ]
    },
    {
      "cell_type": "code",
      "source": [
        "# 5. Create a list and tuple in Python, and demonstrate how attempting to change an element works differently for each\n",
        "\n",
        "my_list = [1, 2, 3]\n",
        "my_list[0] = 10\n",
        "print(\"List after change:\", my_list)\n",
        "my_tuple = (1, 2, 3)\n",
        "my_tuple[0] = 10"
      ],
      "metadata": {
        "colab": {
          "base_uri": "https://localhost:8080/",
          "height": 193
        },
        "id": "xYkfyzrTYCdD",
        "outputId": "f2a391cc-249d-4a52-90ee-4f12fd3bbf10"
      },
      "execution_count": 18,
      "outputs": [
        {
          "output_type": "stream",
          "name": "stdout",
          "text": [
            "List after change: [10, 2, 3]\n"
          ]
        },
        {
          "output_type": "error",
          "ename": "TypeError",
          "evalue": "'tuple' object does not support item assignment",
          "traceback": [
            "\u001b[0;31m---------------------------------------------------------------------------\u001b[0m",
            "\u001b[0;31mTypeError\u001b[0m                                 Traceback (most recent call last)",
            "\u001b[0;32m<ipython-input-18-246d33bc78ee>\u001b[0m in \u001b[0;36m<cell line: 0>\u001b[0;34m()\u001b[0m\n\u001b[1;32m      5\u001b[0m \u001b[0mprint\u001b[0m\u001b[0;34m(\u001b[0m\u001b[0;34m\"List after change:\"\u001b[0m\u001b[0;34m,\u001b[0m \u001b[0mmy_list\u001b[0m\u001b[0;34m)\u001b[0m\u001b[0;34m\u001b[0m\u001b[0;34m\u001b[0m\u001b[0m\n\u001b[1;32m      6\u001b[0m \u001b[0mmy_tuple\u001b[0m \u001b[0;34m=\u001b[0m \u001b[0;34m(\u001b[0m\u001b[0;36m1\u001b[0m\u001b[0;34m,\u001b[0m \u001b[0;36m2\u001b[0m\u001b[0;34m,\u001b[0m \u001b[0;36m3\u001b[0m\u001b[0;34m)\u001b[0m\u001b[0;34m\u001b[0m\u001b[0;34m\u001b[0m\u001b[0m\n\u001b[0;32m----> 7\u001b[0;31m \u001b[0mmy_tuple\u001b[0m\u001b[0;34m[\u001b[0m\u001b[0;36m0\u001b[0m\u001b[0;34m]\u001b[0m \u001b[0;34m=\u001b[0m \u001b[0;36m10\u001b[0m\u001b[0;34m\u001b[0m\u001b[0;34m\u001b[0m\u001b[0m\n\u001b[0m",
            "\u001b[0;31mTypeError\u001b[0m: 'tuple' object does not support item assignment"
          ]
        }
      ]
    },
    {
      "cell_type": "code",
      "source": [
        "# 6. Write a function to demonstrate the behavior of mutable and immutable arguments.\n",
        "\n"
      ],
      "metadata": {
        "id": "wW4EH90FaKfL"
      },
      "execution_count": null,
      "outputs": []
    },
    {
      "cell_type": "code",
      "source": [
        "# 7. Write a program that performs basic arithmetic operations on two user-input numbers.\n",
        "a = input(\"Enter a number\")\n",
        "b= input(\"Enter a number\")\n",
        "print(int(a)+int(b))\n",
        "print(int(a)-int(b))\n",
        "print(int(a)*int(b))\n",
        "print(int(a)/int(b))\n"
      ],
      "metadata": {
        "colab": {
          "base_uri": "https://localhost:8080/"
        },
        "id": "uPR-V77OHw1_",
        "outputId": "48131076-eb85-4ed8-8691-efae9219477b"
      },
      "execution_count": 1,
      "outputs": [
        {
          "output_type": "stream",
          "name": "stdout",
          "text": [
            "Enter a number7\n",
            "Enter a number5\n",
            "12\n",
            "2\n",
            "35\n",
            "1.4\n"
          ]
        }
      ]
    },
    {
      "cell_type": "code",
      "source": [
        "# 8. Write a program to demonstrate the use of logical operators.\n",
        "a = 10\n",
        "b = 5\n",
        "c = 15\n",
        "\n",
        "# Using 'and' operator\n",
        "print(\"a > b and a < c:\", a > b and a < c)\n",
        "\n",
        "# Using 'or' operator\n",
        "print(\"a > b or a > c:\", a > b or a > c)\n",
        "\n",
        "# Using 'not' operator\n",
        "print(\"not(a > b):\", not(a > b))\n"
      ],
      "metadata": {
        "colab": {
          "base_uri": "https://localhost:8080/"
        },
        "id": "1Zj-bkUhIINR",
        "outputId": "a502f6a4-ef69-4b3a-d142-81864fbe3b66"
      },
      "execution_count": 2,
      "outputs": [
        {
          "output_type": "stream",
          "name": "stdout",
          "text": [
            "a > b and a < c: True\n",
            "a > b or a > c: True\n",
            "not(a > b): False\n"
          ]
        }
      ]
    },
    {
      "cell_type": "code",
      "source": [
        "# 9. Write a Python program to convert user input from string to integer, float, and boolean types.\n",
        "\n",
        "a = input(\"Enter a number\")\n",
        "print(int(a))\n",
        "print(float(a))\n",
        "print(bool(a))"
      ],
      "metadata": {
        "colab": {
          "base_uri": "https://localhost:8080/"
        },
        "id": "X6Wd7dbpIldf",
        "outputId": "ed610d6f-0b03-4273-9d83-dff5c91625ce"
      },
      "execution_count": 3,
      "outputs": [
        {
          "output_type": "stream",
          "name": "stdout",
          "text": [
            "Enter a number7\n",
            "7\n",
            "7.0\n",
            "True\n"
          ]
        }
      ]
    },
    {
      "cell_type": "code",
      "source": [
        "# 10. Write code to demonstrate type casting with list elements.\n",
        "\n",
        "b = 6.78\n",
        "type(b)\n",
        "float_value = int(b)\n",
        "type(float_value)"
      ],
      "metadata": {
        "colab": {
          "base_uri": "https://localhost:8080/"
        },
        "id": "X6QU5_tCI9VJ",
        "outputId": "05b82922-deb9-4d58-c83d-0627a1badb3e"
      },
      "execution_count": 4,
      "outputs": [
        {
          "output_type": "execute_result",
          "data": {
            "text/plain": [
              "int"
            ]
          },
          "metadata": {},
          "execution_count": 4
        }
      ]
    },
    {
      "cell_type": "code",
      "source": [
        "# 11. Write a program that checks if a number is positive, negative, or zero\n",
        "\n",
        "a = input(\"Enter a number\")\n",
        "if int(a)>0:\n",
        "  print(\"positive\")\n",
        "elif int(a)<0:\n",
        "  print(\"negative\")\n",
        "else:\n",
        "  print(\"zero\")"
      ],
      "metadata": {
        "colab": {
          "base_uri": "https://localhost:8080/"
        },
        "id": "Q5ReDBQlJtwa",
        "outputId": "c303d256-1995-41ed-a4c6-28a9a2616ba2"
      },
      "execution_count": 9,
      "outputs": [
        {
          "output_type": "stream",
          "name": "stdout",
          "text": [
            "Enter a number-4\n",
            "negative\n"
          ]
        }
      ]
    },
    {
      "cell_type": "code",
      "source": [
        "# 12. Write a for loop to print numbers from 1 to 10.\n",
        "\n",
        "for i in range(1 , 11):\n",
        "    print(i)"
      ],
      "metadata": {
        "colab": {
          "base_uri": "https://localhost:8080/"
        },
        "id": "r6AzuVl_KFJ9",
        "outputId": "700ae737-fe91-4465-8713-41a38e83c92c"
      },
      "execution_count": 12,
      "outputs": [
        {
          "output_type": "stream",
          "name": "stdout",
          "text": [
            "1\n",
            "2\n",
            "3\n",
            "4\n",
            "5\n",
            "6\n",
            "7\n",
            "8\n",
            "9\n",
            "10\n"
          ]
        }
      ]
    },
    {
      "cell_type": "code",
      "source": [
        "# 13. Write a Python program to find the sum of all even numbers between 1 and 50.\n",
        "\n",
        "sum = 0\n",
        "\n",
        "for i in range(1, 51):\n",
        "    if i % 2 == 0:\n",
        "        sum += i\n",
        "\n",
        "print(\"Sum of even numbers from 1 to 50 is:\", sum)\n"
      ],
      "metadata": {
        "colab": {
          "base_uri": "https://localhost:8080/"
        },
        "id": "jyW61FYvKlnQ",
        "outputId": "edf9cd72-e599-4d54-df73-bcffe960d183"
      },
      "execution_count": 13,
      "outputs": [
        {
          "output_type": "stream",
          "name": "stdout",
          "text": [
            "Sum of even numbers from 1 to 50 is: 650\n"
          ]
        }
      ]
    },
    {
      "cell_type": "code",
      "source": [
        "# 14. Write a program to reverse a string using a while loop.\n",
        "\n",
        "text = input(\"Enter a string: \")\n",
        "\n",
        "reversed_text = \"\"\n",
        "index = len(text) - 1\n",
        "\n",
        "while index >= 0:\n",
        "    reversed_text = reversed_text + text[index]\n",
        "    index = index - 1\n",
        "\n",
        "print(\"Reversed string:\", reversed_text)\n"
      ],
      "metadata": {
        "colab": {
          "base_uri": "https://localhost:8080/"
        },
        "id": "Kuu1I1jOLMDx",
        "outputId": "159286d7-9c51-4c35-dc3c-cca82de2e664"
      },
      "execution_count": 14,
      "outputs": [
        {
          "output_type": "stream",
          "name": "stdout",
          "text": [
            "Enter a string: hello\n",
            "Reversed string: olleh\n"
          ]
        }
      ]
    },
    {
      "cell_type": "code",
      "source": [
        "# 15. Write a Python program to calculate the factorial of a number provided by the user using a while loop.\n",
        "\n",
        "num = int(input(\"Enter a number: \"))\n",
        "fact = 1\n",
        "i = 1\n",
        "while i <= num:\n",
        "    fact = fact * i\n",
        "    i = i + 1\n",
        "print(\"Factorial of\", num, \"is:\", fact)\n"
      ],
      "metadata": {
        "colab": {
          "base_uri": "https://localhost:8080/"
        },
        "id": "_4lkePJfLi6X",
        "outputId": "d2645926-fb54-4c08-8bf5-2765f66a4c3f"
      },
      "execution_count": 15,
      "outputs": [
        {
          "output_type": "stream",
          "name": "stdout",
          "text": [
            "Enter a number: 71\n",
            "Factorial of 71 is: 850478588567862317521167644239926010288584608120796235886430763388588680378079017697280000000000000000\n"
          ]
        }
      ]
    }
  ]
}